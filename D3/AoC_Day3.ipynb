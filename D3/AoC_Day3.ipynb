{
 "cells": [
  {
   "cell_type": "markdown",
   "id": "48210427-2ee7-4949-8c95-40d699aee52b",
   "metadata": {},
   "source": [
    "# AoC Day 3"
   ]
  },
  {
   "cell_type": "markdown",
   "id": "d5f48227-b792-4095-8833-97750d40a511",
   "metadata": {},
   "source": [
    "Part 1"
   ]
  },
  {
   "cell_type": "code",
   "execution_count": 30,
   "id": "fd2a8675-bcbd-48e9-8fc2-43ee2af23c83",
   "metadata": {},
   "outputs": [],
   "source": [
    "from collections import Counter"
   ]
  },
  {
   "cell_type": "code",
   "execution_count": 19,
   "id": "4b34a45e-974b-4c3b-b5fc-4de31c4e864a",
   "metadata": {},
   "outputs": [],
   "source": [
    "with open(\"input.txt\", \"r\") as fh:\n",
    "    dat = fh.read().splitlines()"
   ]
  },
  {
   "cell_type": "code",
   "execution_count": 51,
   "id": "2f2ebcf1-1170-47bb-9cc3-6f9aa3078d69",
   "metadata": {},
   "outputs": [
    {
     "name": "stdout",
     "output_type": "stream",
     "text": [
      "Part 1: 3959450\n"
     ]
    }
   ],
   "source": [
    "gamma = \"\"\n",
    "epsilon = \"\"\n",
    "for n in range(len(dat[0])):\n",
    "    pos = []\n",
    "    for row in dat:\n",
    "        pos.append(row[n])\n",
    "    count = Counter(pos)\n",
    "    gamma += max(count, key=count.get)\n",
    "    epsilon += min(count, key=count.get)\n",
    "gamma_dec = int(gamma, 2)\n",
    "epsilon_dec = int(epsilon, 2)\n",
    "print(f\"Part 1: {gamma_dec * epsilon_dec}\")"
   ]
  },
  {
   "cell_type": "markdown",
   "id": "75bc6540-6555-4100-b452-2d566ea5c1ab",
   "metadata": {},
   "source": [
    "Part 2"
   ]
  },
  {
   "cell_type": "code",
   "execution_count": 77,
   "id": "7dfc595c-0c12-4e79-a998-35c819b9f3d9",
   "metadata": {},
   "outputs": [
    {
     "name": "stdout",
     "output_type": "stream",
     "text": [
      "Part 2: 3914880\n"
     ]
    }
   ],
   "source": [
    "oxy = dat\n",
    "keep_going = True\n",
    "n = 0\n",
    "while keep_going:\n",
    "    current = dict() \n",
    "    for row in oxy:\n",
    "        current[row] = row[n]\n",
    "    count = Counter(current.values())\n",
    "    if count[\"1\"] >= count[\"0\"]:\n",
    "        keep = \"1\"\n",
    "    else:\n",
    "        keep = \"0\"\n",
    "    oxy = [k for k in current.keys() if current[k] == keep]\n",
    "    if len(oxy) == 1:\n",
    "        keep_going = False\n",
    "    n += 1\n",
    "\n",
    "co2 = dat\n",
    "keep_going = True\n",
    "n = 0\n",
    "while keep_going:\n",
    "    current = dict() \n",
    "    for row in co2:\n",
    "        current[row] = row[n]\n",
    "    count = Counter(current.values())\n",
    "    if count[\"0\"] >= count[\"1\"]:\n",
    "        keep = \"0\"\n",
    "    else:\n",
    "        keep = \"1\"\n",
    "    co2 = [k for k in current.keys() if current[k] == keep]\n",
    "    if len(co2) == 1:\n",
    "        keep_going = False\n",
    "    n += 1\n",
    "    \n",
    "oxy_dec = int(oxy[0], 2)\n",
    "co2_dec = int(co2[0], 2)\n",
    "print(f\"Part 2: {oxy_dec*co2_dec}\")"
   ]
  }
 ],
 "metadata": {
  "kernelspec": {
   "display_name": "Python 3",
   "language": "python",
   "name": "python3"
  },
  "language_info": {
   "codemirror_mode": {
    "name": "ipython",
    "version": 3
   },
   "file_extension": ".py",
   "mimetype": "text/x-python",
   "name": "python",
   "nbconvert_exporter": "python",
   "pygments_lexer": "ipython3",
   "version": "3.8.8"
  }
 },
 "nbformat": 4,
 "nbformat_minor": 5
}
