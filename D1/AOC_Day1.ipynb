{
 "cells": [
  {
   "cell_type": "markdown",
   "id": "276ded33-687b-4640-9c80-61a5bd9b024b",
   "metadata": {},
   "source": [
    "# AOC - Day 1"
   ]
  },
  {
   "cell_type": "markdown",
   "id": "a5faa6e0-4da7-4727-9e27-1b01023a5171",
   "metadata": {},
   "source": [
    "Part 1"
   ]
  },
  {
   "cell_type": "code",
   "execution_count": 4,
   "id": "595b85c9-11a3-4a41-9b30-c15ffbf76380",
   "metadata": {},
   "outputs": [],
   "source": [
    "with open(\"Inputs/D1_input.txt\") as f:\n",
    "    dat = [int(i) for i in f.read().splitlines()] "
   ]
  },
  {
   "cell_type": "code",
   "execution_count": 13,
   "id": "3014d016-9ec5-43ba-856f-23c34563e5ca",
   "metadata": {},
   "outputs": [
    {
     "name": "stdout",
     "output_type": "stream",
     "text": [
      "Number of increasing depths: 1316\n"
     ]
    }
   ],
   "source": [
    "inc = 0\n",
    "for i in range(1,len(dat)):\n",
    "    if dat[i] > dat[i-1]:\n",
    "        inc += 1\n",
    "print(\"Number of increasing depths: {}\".format(inc))"
   ]
  },
  {
   "cell_type": "markdown",
   "id": "7f043c05-4865-4e11-88ef-f4f5f62abc33",
   "metadata": {},
   "source": [
    "Part 2"
   ]
  },
  {
   "cell_type": "code",
   "execution_count": 14,
   "id": "543cf352-7abd-4685-88a8-f2616fcf15da",
   "metadata": {},
   "outputs": [
    {
     "name": "stdout",
     "output_type": "stream",
     "text": [
      "Number of increasing sliding windows: 1344\n"
     ]
    }
   ],
   "source": [
    "inc = 0\n",
    "for i in range(3,len(dat)):\n",
    "    window_1 = sum(dat[i-4:i-1])\n",
    "    window_2 = sum(dat[i-3:i])\n",
    "    if window_2 > window_1:\n",
    "        inc += 1\n",
    "print(\"Number of increasing sliding windows: {}\".format(inc))"
   ]
  }
 ],
 "metadata": {
  "kernelspec": {
   "display_name": "Python 3",
   "language": "python",
   "name": "python3"
  },
  "language_info": {
   "codemirror_mode": {
    "name": "ipython",
    "version": 3
   },
   "file_extension": ".py",
   "mimetype": "text/x-python",
   "name": "python",
   "nbconvert_exporter": "python",
   "pygments_lexer": "ipython3",
   "version": "3.8.8"
  }
 },
 "nbformat": 4,
 "nbformat_minor": 5
}
