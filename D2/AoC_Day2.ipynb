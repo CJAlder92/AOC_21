{
 "cells": [
  {
   "cell_type": "markdown",
   "id": "6bc0ef85-14f2-4c83-8d1e-043e45222aef",
   "metadata": {},
   "source": [
    "# AoC Day 2"
   ]
  },
  {
   "cell_type": "markdown",
   "id": "f1f8f292-05ee-47fd-ab5a-fe5ae1844921",
   "metadata": {},
   "source": [
    "Part 1"
   ]
  },
  {
   "cell_type": "code",
   "execution_count": 12,
   "id": "3904c13d-6194-48d9-81e0-70090af59fce",
   "metadata": {},
   "outputs": [],
   "source": [
    "import numpy as np"
   ]
  },
  {
   "cell_type": "code",
   "execution_count": 1,
   "id": "9cf68b48-f801-436b-9330-dd066c6be788",
   "metadata": {},
   "outputs": [],
   "source": [
    "with open(\"input.txt\", \"r\") as fh:\n",
    "    dat = fh.read().splitlines()"
   ]
  },
  {
   "cell_type": "code",
   "execution_count": 88,
   "id": "dc1214c7-4ae1-44df-b296-c7dcf6732551",
   "metadata": {},
   "outputs": [],
   "source": [
    "def move_sub(i, n):\n",
    "    direction = {\"forward\": [n, 0], \"down\": [0, n], \"up\": [0, (-1*n)]}\n",
    "    return np.array(direction[i])"
   ]
  },
  {
   "cell_type": "code",
   "execution_count": 89,
   "id": "4fe10da6-de10-4b6b-9717-d734bc3e5f54",
   "metadata": {},
   "outputs": [
    {
     "name": "stdout",
     "output_type": "stream",
     "text": [
      "Part 1 answer: 1840243\n"
     ]
    }
   ],
   "source": [
    "start = np.array([0,0])\n",
    "for row in dat:\n",
    "    i, n = row.split()\n",
    "    start += move_sub(i, int(n))\n",
    "print(f\"Part 1 answer: {np.prod(start)}\")"
   ]
  },
  {
   "cell_type": "markdown",
   "id": "93fd036a-35c9-4d74-bea9-8403c7972c33",
   "metadata": {},
   "source": [
    "Part 2"
   ]
  },
  {
   "cell_type": "code",
   "execution_count": 106,
   "id": "65d85773-2b0d-4906-9c9b-da754a613391",
   "metadata": {},
   "outputs": [],
   "source": [
    "def move_aim(i, n):\n",
    "    direction = {\"forward\": 0, \"down\": n, \"up\": 1*n}\n",
    "    return np.array(direction[i])"
   ]
  },
  {
   "cell_type": "code",
   "execution_count": 107,
   "id": "2dd2df59-d4e0-4fec-806d-2f8942ab3607",
   "metadata": {},
   "outputs": [],
   "source": [
    "def move_sub2(i,n,a):\n",
    "    direction = {\"forward\": [n, n*a], \"down\": [0,0], \"up\": [0, 0]}\n",
    "    return np.array(direction[i])"
   ]
  },
  {
   "cell_type": "code",
   "execution_count": 108,
   "id": "7042ad66-3f59-44ac-8a52-71305f8db178",
   "metadata": {},
   "outputs": [
    {
     "name": "stdout",
     "output_type": "stream",
     "text": [
      "Part 2 answer: 1727785422\n"
     ]
    }
   ],
   "source": [
    "pos = np.array([0,0])\n",
    "aim = np.array(0)\n",
    "for row in dat:\n",
    "    i, n = row.split()\n",
    "    aim += move_aim(i,int(n))\n",
    "    pos += move_sub2(i, int(n), aim)\n",
    "\n",
    "print(f\"Part 2 answer: {np.prod(pos)}\")"
   ]
  }
 ],
 "metadata": {
  "kernelspec": {
   "display_name": "Python 3",
   "language": "python",
   "name": "python3"
  },
  "language_info": {
   "codemirror_mode": {
    "name": "ipython",
    "version": 3
   },
   "file_extension": ".py",
   "mimetype": "text/x-python",
   "name": "python",
   "nbconvert_exporter": "python",
   "pygments_lexer": "ipython3",
   "version": "3.8.8"
  }
 },
 "nbformat": 4,
 "nbformat_minor": 5
}
