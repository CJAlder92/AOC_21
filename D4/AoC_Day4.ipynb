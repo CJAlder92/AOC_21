{
 "cells": [
  {
   "cell_type": "code",
   "execution_count": 183,
   "id": "a5c1f50a-8e77-42f2-9f71-5167ab60ec90",
   "metadata": {},
   "outputs": [],
   "source": [
    "with open(\"input.txt\", \"r\") as fh:\n",
    "    dat = fh.read().split(\"\\n\\n\")"
   ]
  },
  {
   "cell_type": "code",
   "execution_count": 184,
   "id": "4c2cf7e2-309e-4127-bda3-a936404ee8a2",
   "metadata": {},
   "outputs": [],
   "source": [
    "test = \"\"\"7,4,9,5,11,17,23,2,0,14,21,24,10,16,13,6,15,25,12,22,18,20,8,19,3,26,1\n",
    "\n",
    "22 13 17 11  0\n",
    " 8  2 23  4 24\n",
    "21  9 14 16  7\n",
    " 6 10  3 18  5\n",
    " 1 12 20 15 19\n",
    "\n",
    " 3 15  0  2 22\n",
    " 9 18 13 17  5\n",
    "19  8  7 25 23\n",
    "20 11 10 24  4\n",
    "14 21 16 12  6\n",
    "\n",
    "14 21 17 24  4\n",
    "10 16 15  9 19\n",
    "18  8 23 26 20\n",
    "22 11 13  6  5\n",
    " 2  0 12  3  7\"\"\""
   ]
  },
  {
   "cell_type": "code",
   "execution_count": 185,
   "id": "9dfd704b-0535-4fed-8765-293f8752ff8d",
   "metadata": {},
   "outputs": [],
   "source": [
    "test_dat = test.split(\"\\n\\n\")"
   ]
  },
  {
   "cell_type": "code",
   "execution_count": 186,
   "id": "3dc0d39a-0f04-4973-b46d-0a000b1351a1",
   "metadata": {},
   "outputs": [],
   "source": [
    "nums  = dat[0].split(\",\")\n",
    "boards_raw = dat[1:]\n",
    "board_str = [b.split(\"\\n\") for b in boards_raw]\n",
    "board_nest = [[x.split()for x in b] for b in board_str] # What is happening right now\n"
   ]
  },
  {
   "cell_type": "code",
   "execution_count": 187,
   "id": "8d0f8bf4-ed09-4ba9-bb56-559f1b5ebe7d",
   "metadata": {},
   "outputs": [
    {
     "name": "stdout",
     "output_type": "stream",
     "text": [
      "Answer to part 1: Shame, and also 58412\n"
     ]
    }
   ],
   "source": [
    "### Hideous\n",
    "keep_going = True\n",
    "n = 0\n",
    "while keep_going:\n",
    "    draw = nums[n]\n",
    "    # Find numbers\n",
    "    for b in board_nest:\n",
    "        for i in range(5):\n",
    "            for j in range(5):\n",
    "                if b[i][j] == draw:\n",
    "                    b[i][j] = \"F\"\n",
    "    for b in board_nest:\n",
    "        for i in range(5):\n",
    "            if all(x == \"F\" for x in b[i]) or all(x[i] == \"F\" for x in b):\n",
    "                keep_going = False\n",
    "                win = b\n",
    "                final_number = int(draw)\n",
    "    n += 1\n",
    "\n",
    "ans = sum([int(i) for j in win for i in j if i != \"F\"]) * final_number\n",
    "print(f\"Answer to part 1: Shame, and also {ans}\")"
   ]
  },
  {
   "cell_type": "code",
   "execution_count": 245,
   "id": "e90d5413-12f5-4d1e-bdc2-dc3af952c78c",
   "metadata": {},
   "outputs": [
    {
     "name": "stdout",
     "output_type": "stream",
     "text": [
      "Answer to part 2: WTF IS GOING ON 10030\n"
     ]
    }
   ],
   "source": [
    "nums  = dat[0].split(\",\")\n",
    "boards_raw = dat[1:]\n",
    "board_str = [b.split(\"\\n\") for b in boards_raw]\n",
    "board_nest = [[x.split()for x in b] for b in board_str] # What is happening right now\n",
    "\n",
    "### Stay in school kids\n",
    "keep_going = True\n",
    "n = 0\n",
    "while keep_going:\n",
    "    win = []\n",
    "    draw = nums[n]\n",
    "    # Find numbers\n",
    "    for b in board_nest:\n",
    "        for i in range(5):\n",
    "            for j in range(5):\n",
    "                if b[i][j] == draw:\n",
    "                    b[i][j] = \"F\"\n",
    "    for b in board_nest:\n",
    "        for i in range(5):\n",
    "            if all(x == \"F\" for x in b[i]) or all(x[i] == \"F\" for x in b):\n",
    "                board_nest = [i for i in board_nest if i != b]\n",
    "                break\n",
    "    if len(board_nest) == 0:\n",
    "        keep_going = False\n",
    "        final_number = int(draw)\n",
    "        win = b\n",
    "    n += 1\n",
    "ans = sum([int(i) for j in win for i in j if i != \"F\"]) * final_number\n",
    "print(f\"Answer to part 2: WTF IS GOING ON {ans}\") "
   ]
  }
 ],
 "metadata": {
  "kernelspec": {
   "display_name": "Python 3",
   "language": "python",
   "name": "python3"
  },
  "language_info": {
   "codemirror_mode": {
    "name": "ipython",
    "version": 3
   },
   "file_extension": ".py",
   "mimetype": "text/x-python",
   "name": "python",
   "nbconvert_exporter": "python",
   "pygments_lexer": "ipython3",
   "version": "3.8.8"
  }
 },
 "nbformat": 4,
 "nbformat_minor": 5
}
